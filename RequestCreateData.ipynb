{
 "cells": [
  {
   "cell_type": "code",
   "execution_count": 1,
   "id": "000c33d8",
   "metadata": {},
   "outputs": [],
   "source": [
    "from requests import get\n",
    "from pandas import DataFrame, to_datetime\n",
    "\n",
    "link = \"https://api.epias.com.tr/epias/exchange/transparency/market/day-ahead-mcp\""
   ]
  },
  {
   "cell_type": "markdown",
   "id": "d5a717e6",
   "metadata": {},
   "source": [
    "### Selecting start and end dates"
   ]
  },
  {
   "cell_type": "code",
   "execution_count": 2,
   "id": "9ec65060",
   "metadata": {},
   "outputs": [],
   "source": [
    "start_date = \"2019-01-01\"\n",
    "end_date = \"2023-06-30\"\n",
    "\n",
    "payload = \"?startDate={}&endDate={}\".format(start_date, end_date)"
   ]
  },
  {
   "cell_type": "markdown",
   "id": "4e6f41f5",
   "metadata": {},
   "source": [
    "### Requesting data"
   ]
  },
  {
   "cell_type": "code",
   "execution_count": 3,
   "id": "33dd73cb",
   "metadata": {},
   "outputs": [],
   "source": [
    "request = get(link + payload)\n",
    "result = request.json()"
   ]
  },
  {
   "cell_type": "markdown",
   "id": "91cf7075",
   "metadata": {},
   "source": [
    "### Response"
   ]
  },
  {
   "cell_type": "code",
   "execution_count": 4,
   "id": "3099c049",
   "metadata": {},
   "outputs": [
    {
     "data": {
      "text/html": [
       "<div>\n",
       "<style scoped>\n",
       "    .dataframe tbody tr th:only-of-type {\n",
       "        vertical-align: middle;\n",
       "    }\n",
       "\n",
       "    .dataframe tbody tr th {\n",
       "        vertical-align: top;\n",
       "    }\n",
       "\n",
       "    .dataframe thead th {\n",
       "        text-align: right;\n",
       "    }\n",
       "</style>\n",
       "<table border=\"1\" class=\"dataframe\">\n",
       "  <thead>\n",
       "    <tr style=\"text-align: right;\">\n",
       "      <th></th>\n",
       "      <th>date</th>\n",
       "      <th>price</th>\n",
       "      <th>priceUsd</th>\n",
       "      <th>priceEur</th>\n",
       "    </tr>\n",
       "  </thead>\n",
       "  <tbody>\n",
       "    <tr>\n",
       "      <th>0</th>\n",
       "      <td>2019-01-01T00:00:00.000+0300</td>\n",
       "      <td>100.38</td>\n",
       "      <td>19.01</td>\n",
       "      <td>16.61</td>\n",
       "    </tr>\n",
       "    <tr>\n",
       "      <th>1</th>\n",
       "      <td>2019-01-01T01:00:00.000+0300</td>\n",
       "      <td>96.72</td>\n",
       "      <td>18.31</td>\n",
       "      <td>16.01</td>\n",
       "    </tr>\n",
       "    <tr>\n",
       "      <th>2</th>\n",
       "      <td>2019-01-01T02:00:00.000+0300</td>\n",
       "      <td>81.60</td>\n",
       "      <td>15.45</td>\n",
       "      <td>13.51</td>\n",
       "    </tr>\n",
       "    <tr>\n",
       "      <th>3</th>\n",
       "      <td>2019-01-01T03:00:00.000+0300</td>\n",
       "      <td>38.58</td>\n",
       "      <td>7.31</td>\n",
       "      <td>6.39</td>\n",
       "    </tr>\n",
       "    <tr>\n",
       "      <th>4</th>\n",
       "      <td>2019-01-01T04:00:00.000+0300</td>\n",
       "      <td>11.52</td>\n",
       "      <td>2.18</td>\n",
       "      <td>1.91</td>\n",
       "    </tr>\n",
       "  </tbody>\n",
       "</table>\n",
       "</div>"
      ],
      "text/plain": [
       "                           date   price  priceUsd  priceEur\n",
       "0  2019-01-01T00:00:00.000+0300  100.38     19.01     16.61\n",
       "1  2019-01-01T01:00:00.000+0300   96.72     18.31     16.01\n",
       "2  2019-01-01T02:00:00.000+0300   81.60     15.45     13.51\n",
       "3  2019-01-01T03:00:00.000+0300   38.58      7.31      6.39\n",
       "4  2019-01-01T04:00:00.000+0300   11.52      2.18      1.91"
      ]
     },
     "execution_count": 4,
     "metadata": {},
     "output_type": "execute_result"
    }
   ],
   "source": [
    "df = DataFrame(result[\"body\"][\"dayAheadMCPList\"])\n",
    "df.head()"
   ]
  },
  {
   "cell_type": "markdown",
   "id": "59398464",
   "metadata": {},
   "source": [
    "### Formatting dataframe"
   ]
  },
  {
   "cell_type": "code",
   "execution_count": 5,
   "id": "dc358810",
   "metadata": {},
   "outputs": [],
   "source": [
    "df[\"date\"] = to_datetime(df[\"date\"])\n",
    "\n",
    "df[\"day\"] = df[\"date\"].dt.dayofyear\n",
    "df[\"year\"] = df[\"date\"].dt.year\n",
    "df[\"week\"] = df[\"date\"].dt.weekday\n",
    "df[\"month\"] = df[\"date\"].dt.month\n",
    "df[\"dd\"] = df[\"date\"].dt.day\n",
    "\n",
    "weeks = df.set_index([\"year\",\"day\"])[\"week\"].to_dict()\n",
    "days = df.set_index([\"year\",\"day\"])[[\"dd\",\"month\"]].to_dict()\n",
    "\n",
    "key = df.groupby([\"year\",\"day\"])[\"price\"].mean().unstack().T\n",
    "key = key.iloc[:-1,:]\n",
    "\n",
    "df = key.stack().reorder_levels([\"year\",\"day\"]).sort_index()\n",
    "df = df.reset_index()\n",
    "df.columns = [\"y\",\"d\",\"ptf\"]\n",
    "\n",
    "df[\"r\"] = 360*(df.d -1) / 365 + (df.y - 2019)*360\n",
    "df[\"w\"] = df.apply(lambda x: weeks[x[\"y\"],x[\"d\"]],axis = 1)\n",
    "\n",
    "df[\"dayNames\"] = df[\"w\"].replace({0:\"Monday\",1:\"Tuesday\",2:\"Wednesday\",3:\"Thursday\",4:\"Friday\",\n",
    "                                5:\"Saturday\",6:\"Sunday\"})\n",
    "\n",
    "df[\"hover\"] = df.apply(lambda x: \n",
    "                       \n",
    "                       \"<br>Date: \"+\n",
    "                       \"{}\".format(days[\"dd\"][x[\"y\"],x[\"d\"]]).zfill(2)+\"-\"+\n",
    "                       \"{}\".format(days[\"month\"][x[\"y\"],x[\"d\"]]).zfill(2)+\"-\"+\n",
    "                       \"{}\".format(x[\"y\"])+\n",
    "                       \"<br>Week Day: {}\".format(x[\"dayNames\"])+\n",
    "                       \"<br>Price: {:.2f}<br>\".format(x[\"ptf\"] ) +\n",
    "                       \"<extra></extra>\"\n",
    "                       ,\n",
    "                       axis = 1)\n",
    "df[\"i\"] = [i for i in range(len(df))]\n"
   ]
  },
  {
   "cell_type": "markdown",
   "id": "07ab6e66",
   "metadata": {},
   "source": [
    "### Creating external JS file"
   ]
  },
  {
   "cell_type": "code",
   "execution_count": 6,
   "id": "eaecce99",
   "metadata": {},
   "outputs": [],
   "source": [
    "with open(\"data.js\", \"w\") as file:\n",
    "    file.write(\"var data = \")\n",
    "    file.write(df.to_json())\n"
   ]
  }
 ],
 "metadata": {
  "kernelspec": {
   "display_name": "Python 3",
   "language": "python",
   "name": "python3"
  },
  "language_info": {
   "codemirror_mode": {
    "name": "ipython",
    "version": 3
   },
   "file_extension": ".py",
   "mimetype": "text/x-python",
   "name": "python",
   "nbconvert_exporter": "python",
   "pygments_lexer": "ipython3",
   "version": "3.8.8"
  }
 },
 "nbformat": 4,
 "nbformat_minor": 5
}
